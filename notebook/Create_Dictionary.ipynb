{
 "cells": [
  {
   "cell_type": "code",
   "execution_count": 1,
   "metadata": {},
   "outputs": [],
   "source": [
    "#file_name = 'masterDB_JPA Data - 20180406_flatten.json'\n",
    "file_name = 'data20180620_test.json'\n",
    "field = 'title'\n",
    "processes = 8\n",
    "token_processes = 1"
   ]
  },
  {
   "cell_type": "code",
   "execution_count": 2,
   "metadata": {},
   "outputs": [],
   "source": [
    "#from tltk import segment\n",
    "\n",
    "#def thai_segment(text):\n",
    "#    ret = segment(text).replace('<u/>','|').replace('|<s/>|','|').split('|')\n",
    "#    return ret"
   ]
  },
  {
   "cell_type": "code",
   "execution_count": 3,
   "metadata": {},
   "outputs": [],
   "source": [
    "def thai_segment(text):\n",
    "    import deepcut as dp\n",
    "    return dp.tokenize(text)"
   ]
  },
  {
   "cell_type": "code",
   "execution_count": 4,
   "metadata": {},
   "outputs": [],
   "source": [
    "import sys\n",
    "if not '..' in sys.path:\n",
    "    sys.path.append('..')\n",
    "from create_dict import CreateDict\n",
    "\n",
    "Create_Dict = CreateDict(thai_segment, n_gram=1, processes=processes, tokenize_processes=token_processes,\n",
    "                         th_wordlist='wordlist_th.json', en_wordlist='wordlist_en.json')"
   ]
  },
  {
   "cell_type": "code",
   "execution_count": null,
   "metadata": {},
   "outputs": [],
   "source": [
    "type(thai_segment)"
   ]
  },
  {
   "cell_type": "code",
   "execution_count": 5,
   "metadata": {},
   "outputs": [
    {
     "name": "stdout",
     "output_type": "stream",
     "text": [
      "Finish cleaning text - time:  34.99427509307861\n"
     ]
    },
    {
     "name": "stderr",
     "output_type": "stream",
     "text": [
      "Using TensorFlow backend.\n"
     ]
    },
    {
     "name": "stdout",
     "output_type": "stream",
     "text": [
      "Finish tokenization - time:  38.201969623565674\n",
      "Finish compile list - time:  38.204081535339355\n"
     ]
    }
   ],
   "source": [
    "import os\n",
    "import json\n",
    "import time\n",
    "import pickle\n",
    "\n",
    "start = time.time()\n",
    "\n",
    "data_feed = []\n",
    "with open(os.path.join(os.getcwd(), '..', 'data', file_name), 'rt', encoding='utf-8') as f:\n",
    "    for line in f.readlines():\n",
    "        job_ad = json.loads(line)\n",
    "        data_feed.append(job_ad[field])\n",
    "        \n",
    "dicts_in, dicts_out, docs = Create_Dict.create_dict(data_feed)"
   ]
  },
  {
   "cell_type": "code",
   "execution_count": null,
   "metadata": {
    "scrolled": true
   },
   "outputs": [],
   "source": [
    "import os\n",
    "import json\n",
    "import time\n",
    "import pickle\n",
    "\n",
    "start = time.time()\n",
    "\n",
    "data_feed = []\n",
    "with open(os.path.join(os.getcwd(), '..', 'data', file_name), 'rt', encoding='utf-8') as f:\n",
    "    for line in f.readlines():\n",
    "        job_ad = json.loads(line)\n",
    "        data_feed.append(job_ad[field])\n",
    "        \n",
    "dicts_in, dicts_out, docs = Create_Dict.create_dict(data_feed)\n",
    "\n",
    "with open(os.path.join(os.getcwd(), '..', 'dict', 'dict_in_title.json'), 'wt', encoding='utf-8') as f:\n",
    "    json.dump(dicts_in, f, ensure_ascii=False)\n",
    "with open(os.path.join(os.getcwd(), '..', 'dict', 'dict_out_title.json'), 'wt', encoding='utf-8') as f:\n",
    "    json.dump(dicts_out, f, ensure_ascii=False)\n",
    "with open(os.path.join(os.getcwd(), '..', 'dict', 'docs_tokens_title.pickle'), 'wb') as f:\n",
    "    pickle.dump(docs, f)\n",
    "    \n",
    "print(time.time()-start)"
   ]
  },
  {
   "cell_type": "code",
   "execution_count": null,
   "metadata": {},
   "outputs": [],
   "source": [
    "word_out = [[token, dicts_out[token]] for token in dicts_out.keys()]"
   ]
  },
  {
   "cell_type": "code",
   "execution_count": null,
   "metadata": {},
   "outputs": [],
   "source": [
    "word_out.sort(key=lambda x: x[1], reverse=True)\n",
    "word_out[:20]"
   ]
  },
  {
   "cell_type": "code",
   "execution_count": null,
   "metadata": {},
   "outputs": [],
   "source": [
    "temp = ''\n",
    "for word in word_out:\n",
    "    temp += word[0] + '\\t' + str(word[1]) + '\\n'\n",
    "with open(os.path.join(os.getcwd(), '..', 'dict', 'dict_out.txt'), 'wt', encoding='utf-8') as f:\n",
    "    f.write(temp)"
   ]
  },
  {
   "cell_type": "code",
   "execution_count": null,
   "metadata": {},
   "outputs": [],
   "source": []
  }
 ],
 "metadata": {
  "kernelspec": {
   "display_name": "Python 3",
   "language": "python",
   "name": "python3"
  },
  "language_info": {
   "codemirror_mode": {
    "name": "ipython",
    "version": 3
   },
   "file_extension": ".py",
   "mimetype": "text/x-python",
   "name": "python",
   "nbconvert_exporter": "python",
   "pygments_lexer": "ipython3",
   "version": "3.6.5"
  }
 },
 "nbformat": 4,
 "nbformat_minor": 2
}
