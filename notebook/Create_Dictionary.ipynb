{
 "cells": [
  {
   "cell_type": "code",
   "execution_count": 1,
   "metadata": {},
   "outputs": [],
   "source": [
    "#file_name = 'masterDB_JPA Data - 20180406_flatten.json'\n",
    "file_name = 'data20180620_test.json'\n",
    "field = 'title'\n",
    "processes = 8\n",
    "token_processes = 1"
   ]
  },
  {
   "cell_type": "code",
   "execution_count": 2,
   "metadata": {},
   "outputs": [],
   "source": [
    "#from tltk import segment\n",
    "\n",
    "#def thai_segment(text):\n",
    "#    ret = segment(text).replace('<u/>','|').replace('|<s/>|','|').split('|')\n",
    "#    return ret"
   ]
  },
  {
   "cell_type": "code",
   "execution_count": 3,
   "metadata": {},
   "outputs": [],
   "source": [
    "def thai_segment(text):\n",
    "    import deepcut as dp\n",
    "    return dp.tokenize(text)"
   ]
  },
  {
   "cell_type": "code",
   "execution_count": 4,
   "metadata": {},
   "outputs": [],
   "source": [
    "import sys\n",
    "if not '..' in sys.path:\n",
    "    sys.path.append('..')\n",
    "from create_dict import CreateDict\n",
    "\n",
    "Create_Dict = CreateDict(thai_segment, n_gram=1, processes=processes, tokenize_processes=token_processes,\n",
    "                         th_wordlist='wordlist_th.json', en_wordlist='wordlist_en.json')"
   ]
  },
  {
   "cell_type": "code",
   "execution_count": 5,
   "metadata": {
    "scrolled": true
   },
   "outputs": [
    {
     "name": "stdout",
     "output_type": "stream",
     "text": [
      "Finish cleaning text - time:  34.375545024871826\n"
     ]
    },
    {
     "name": "stderr",
     "output_type": "stream",
     "text": [
      "Using TensorFlow backend.\n"
     ]
    },
    {
     "name": "stdout",
     "output_type": "stream",
     "text": [
      "Finish tokenization - time:  37.607364892959595\n",
      "Finish compile list - time:  37.610090494155884\n"
     ]
    },
    {
     "ename": "IndexError",
     "evalue": "string index out of range",
     "output_type": "error",
     "traceback": [
      "\u001b[0;31m---------------------------------------------------------------------------\u001b[0m",
      "\u001b[0;31mRemoteTraceback\u001b[0m                           Traceback (most recent call last)",
      "\u001b[0;31mRemoteTraceback\u001b[0m: \n\"\"\"\nTraceback (most recent call last):\n  File \"/home/nuthasid/Dropbox/Python/VirtualEnv/Text_Classification/lib/python3.6/site-packages/multiprocess/pool.py\", line 119, in worker\n    result = (True, func(*args, **kwds))\n  File \"/home/nuthasid/Dropbox/Python/VirtualEnv/Text_Classification/lib/python3.6/site-packages/multiprocess/pool.py\", line 44, in mapstar\n    return list(map(*args))\n  File \"/home/nuthasid/Dropbox/Python/VirtualEnv/Text_Classification/lib/python3.6/site-packages/pathos/helpers/mp_helper.py\", line 15, in <lambda>\n    func = lambda args: f(*args)\n  File \"../create_dict.py\", line 212, in find_matching\n    if ord(word[0]) in range(3584, 3712):\nIndexError: string index out of range\n\"\"\"",
      "\nThe above exception was the direct cause of the following exception:\n",
      "\u001b[0;31mIndexError\u001b[0m                                Traceback (most recent call last)",
      "\u001b[0;32m<ipython-input-5-e83697577ae0>\u001b[0m in \u001b[0;36m<module>\u001b[0;34m()\u001b[0m\n\u001b[1;32m     12\u001b[0m         \u001b[0mdata_feed\u001b[0m\u001b[0;34m.\u001b[0m\u001b[0mappend\u001b[0m\u001b[0;34m(\u001b[0m\u001b[0mjob_ad\u001b[0m\u001b[0;34m[\u001b[0m\u001b[0mfield\u001b[0m\u001b[0;34m]\u001b[0m\u001b[0;34m)\u001b[0m\u001b[0;34m\u001b[0m\u001b[0m\n\u001b[1;32m     13\u001b[0m \u001b[0;34m\u001b[0m\u001b[0m\n\u001b[0;32m---> 14\u001b[0;31m \u001b[0mdicts_in\u001b[0m\u001b[0;34m,\u001b[0m \u001b[0mdicts_out\u001b[0m\u001b[0;34m,\u001b[0m \u001b[0mdocs\u001b[0m \u001b[0;34m=\u001b[0m \u001b[0mCreate_Dict\u001b[0m\u001b[0;34m.\u001b[0m\u001b[0mcreate_dict\u001b[0m\u001b[0;34m(\u001b[0m\u001b[0mdata_feed\u001b[0m\u001b[0;34m)\u001b[0m\u001b[0;34m\u001b[0m\u001b[0m\n\u001b[0m",
      "\u001b[0;32m~/Dropbox/Python/Text_Classification/create_dict.py\u001b[0m in \u001b[0;36mcreate_dict\u001b[0;34m(self, docs, match_suggest)\u001b[0m\n\u001b[1;32m    265\u001b[0m         \u001b[0mpool\u001b[0m \u001b[0;34m=\u001b[0m \u001b[0mmp\u001b[0m\u001b[0;34m.\u001b[0m\u001b[0mProcessPool\u001b[0m\u001b[0;34m(\u001b[0m\u001b[0mnodes\u001b[0m\u001b[0;34m=\u001b[0m\u001b[0mself\u001b[0m\u001b[0;34m.\u001b[0m\u001b[0mprocesses\u001b[0m\u001b[0;34m)\u001b[0m\u001b[0;34m\u001b[0m\u001b[0m\n\u001b[1;32m    266\u001b[0m         \u001b[0mwordlist\u001b[0m \u001b[0;34m=\u001b[0m \u001b[0mpool\u001b[0m\u001b[0;34m.\u001b[0m\u001b[0mamap\u001b[0m\u001b[0;34m(\u001b[0m\u001b[0mfind_matching\u001b[0m\u001b[0;34m,\u001b[0m \u001b[0mtokens\u001b[0m\u001b[0;34m)\u001b[0m\u001b[0;34m\u001b[0m\u001b[0m\n\u001b[0;32m--> 267\u001b[0;31m         \u001b[0mwordlist\u001b[0m \u001b[0;34m=\u001b[0m \u001b[0mwordlist\u001b[0m\u001b[0;34m.\u001b[0m\u001b[0mget\u001b[0m\u001b[0;34m(\u001b[0m\u001b[0;34m)\u001b[0m\u001b[0;34m\u001b[0m\u001b[0m\n\u001b[0m\u001b[1;32m    268\u001b[0m         \u001b[0mdict_in\u001b[0m \u001b[0;34m=\u001b[0m \u001b[0;34m{\u001b[0m\u001b[0;34m}\u001b[0m\u001b[0;34m\u001b[0m\u001b[0m\n\u001b[1;32m    269\u001b[0m         \u001b[0mdict_out\u001b[0m \u001b[0;34m=\u001b[0m \u001b[0;34m{\u001b[0m\u001b[0;34m}\u001b[0m\u001b[0;34m\u001b[0m\u001b[0m\n",
      "\u001b[0;32m~/Dropbox/Python/VirtualEnv/Text_Classification/lib/python3.6/site-packages/multiprocess/pool.py\u001b[0m in \u001b[0;36mget\u001b[0;34m(self, timeout)\u001b[0m\n\u001b[1;32m    642\u001b[0m             \u001b[0;32mreturn\u001b[0m \u001b[0mself\u001b[0m\u001b[0;34m.\u001b[0m\u001b[0m_value\u001b[0m\u001b[0;34m\u001b[0m\u001b[0m\n\u001b[1;32m    643\u001b[0m         \u001b[0;32melse\u001b[0m\u001b[0;34m:\u001b[0m\u001b[0;34m\u001b[0m\u001b[0m\n\u001b[0;32m--> 644\u001b[0;31m             \u001b[0;32mraise\u001b[0m \u001b[0mself\u001b[0m\u001b[0;34m.\u001b[0m\u001b[0m_value\u001b[0m\u001b[0;34m\u001b[0m\u001b[0m\n\u001b[0m\u001b[1;32m    645\u001b[0m \u001b[0;34m\u001b[0m\u001b[0m\n\u001b[1;32m    646\u001b[0m     \u001b[0;32mdef\u001b[0m \u001b[0m_set\u001b[0m\u001b[0;34m(\u001b[0m\u001b[0mself\u001b[0m\u001b[0;34m,\u001b[0m \u001b[0mi\u001b[0m\u001b[0;34m,\u001b[0m \u001b[0mobj\u001b[0m\u001b[0;34m)\u001b[0m\u001b[0;34m:\u001b[0m\u001b[0;34m\u001b[0m\u001b[0m\n",
      "\u001b[0;31mIndexError\u001b[0m: string index out of range"
     ]
    }
   ],
   "source": [
    "import os\n",
    "import json\n",
    "import time\n",
    "import pickle\n",
    "\n",
    "start = time.time()\n",
    "\n",
    "data_feed = []\n",
    "with open(os.path.join(os.getcwd(), '..', 'data', file_name), 'rt', encoding='utf-8') as f:\n",
    "    for line in f.readlines():\n",
    "        job_ad = json.loads(line)\n",
    "        data_feed.append(job_ad[field])\n",
    "        \n",
    "dicts_in, dicts_out, docs = Create_Dict.create_dict(data_feed)"
   ]
  },
  {
   "cell_type": "code",
   "execution_count": null,
   "metadata": {},
   "outputs": [],
   "source": [
    "with open(os.path.join(os.getcwd(), '..', 'dict', 'dict_in_title.json'), 'wt', encoding='utf-8') as f:\n",
    "    json.dump(dicts_in, f, ensure_ascii=False)\n",
    "with open(os.path.join(os.getcwd(), '..', 'dict', 'dict_out_title.json'), 'wt', encoding='utf-8') as f:\n",
    "    json.dump(dicts_out, f, ensure_ascii=False)\n",
    "with open(os.path.join(os.getcwd(), '..', 'dict', 'docs_tokens_title.pickle'), 'wb') as f:\n",
    "    pickle.dump(docs, f)\n",
    "    \n",
    "print(time.time()-start)"
   ]
  },
  {
   "cell_type": "code",
   "execution_count": null,
   "metadata": {},
   "outputs": [],
   "source": [
    "word_out = [[token, dicts_out[token]] for token in dicts_out.keys()]"
   ]
  },
  {
   "cell_type": "code",
   "execution_count": null,
   "metadata": {},
   "outputs": [],
   "source": [
    "word_out.sort(key=lambda x: x[1], reverse=True)\n",
    "word_out[:20]"
   ]
  },
  {
   "cell_type": "code",
   "execution_count": null,
   "metadata": {},
   "outputs": [],
   "source": [
    "temp = ''\n",
    "for word in word_out:\n",
    "    temp += word[0] + '\\t' + str(word[1]) + '\\n'\n",
    "with open(os.path.join(os.getcwd(), '..', 'dict', 'dict_out.txt'), 'wt', encoding='utf-8') as f:\n",
    "    f.write(temp)"
   ]
  },
  {
   "cell_type": "code",
   "execution_count": null,
   "metadata": {},
   "outputs": [],
   "source": []
  }
 ],
 "metadata": {
  "kernelspec": {
   "display_name": "Python 3",
   "language": "python",
   "name": "python3"
  },
  "language_info": {
   "codemirror_mode": {
    "name": "ipython",
    "version": 3
   },
   "file_extension": ".py",
   "mimetype": "text/x-python",
   "name": "python",
   "nbconvert_exporter": "python",
   "pygments_lexer": "ipython3",
   "version": "3.6.5"
  }
 },
 "nbformat": 4,
 "nbformat_minor": 2
}
