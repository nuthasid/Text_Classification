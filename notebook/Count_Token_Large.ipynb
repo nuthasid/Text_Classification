{
 "cells": [
  {
   "cell_type": "code",
   "execution_count": 1,
   "metadata": {},
   "outputs": [],
   "source": [
    "import csv\n",
    "import os"
   ]
  },
  {
   "cell_type": "code",
   "execution_count": 9,
   "metadata": {},
   "outputs": [],
   "source": [
    "data_path = os.path.abspath(os.path.join(os.getcwd(), '..', 'nectec'))"
   ]
  },
  {
   "cell_type": "code",
   "execution_count": 15,
   "metadata": {},
   "outputs": [
    {
     "name": "stdout",
     "output_type": "stream",
     "text": [
      "[['good', 20352], ['english', 14320], ['verbal', 809], [',', 229713], ['written', 4243]]\n"
     ]
    }
   ],
   "source": [
    "file_name = 'token_tally_20180312.txt'\n",
    "with open(os.path.join(data_path, file_name), 'rt', encoding='utf-8') as cf:\n",
    "    csv_read = csv.reader(cf, delimiter='\\t', dialect='excel')\n",
    "    token_tally = [[line[0], int(line[1])] for line in csv_read if int(line[1]) > 5]\n",
    "len(token_tally)\n",
    "print(token_tally[0:5])"
   ]
  },
  {
   "cell_type": "code",
   "execution_count": 16,
   "metadata": {},
   "outputs": [
    {
     "data": {
      "text/plain": [
       "467693"
      ]
     },
     "execution_count": 16,
     "metadata": {},
     "output_type": "execute_result"
    }
   ],
   "source": [
    "len(token_tally)"
   ]
  },
  {
   "cell_type": "code",
   "execution_count": 22,
   "metadata": {},
   "outputs": [
    {
     "name": "stdout",
     "output_type": "stream",
     "text": [
      "[['.', 319158], ['-', 258140], [':', 243670], ['การ', 241926], [',', 229713]]\n"
     ]
    }
   ],
   "source": [
    "token_tally.sort(reverse=True, key=lambda x: x[1])\n",
    "print(token_tally[0:5])"
   ]
  },
  {
   "cell_type": "code",
   "execution_count": 24,
   "metadata": {},
   "outputs": [],
   "source": [
    "with open(os.path.join(data_path, 'token_tally_20180312_red.txt'), 'wt', encoding='utf-8', newline='') as cf:\n",
    "    csv_write = csv.writer(cf, delimiter='\\t', dialect='excel')\n",
    "    csv_write.writerows(token_tally)"
   ]
  }
 ],
 "metadata": {
  "kernelspec": {
   "display_name": "Python 3",
   "language": "python",
   "name": "python3"
  },
  "language_info": {
   "codemirror_mode": {
    "name": "ipython",
    "version": 3
   },
   "file_extension": ".py",
   "mimetype": "text/x-python",
   "name": "python",
   "nbconvert_exporter": "python",
   "pygments_lexer": "ipython3",
   "version": "3.6.3"
  }
 },
 "nbformat": 4,
 "nbformat_minor": 2
}
