{
 "cells": [
  {
   "cell_type": "code",
   "execution_count": 1,
   "metadata": {},
   "outputs": [],
   "source": [
    "class Training_Data:\n",
    "    \n",
    "    def __init__(self, data_file):\n",
    "        self.data_file = data_file\n",
    "        \n",
    "    def load_data(self):\n",
    "        \n",
    "        import os\n",
    "    \n",
    "        file_path = os.path.abspath(os.path.join(os.getcwd(), '..', 'data', self.data_file))    \n",
    "        with open(file_path, 'rt', encoding='utf-8') as tf:\n",
    "            loaded_ad = tf.read().split('\\n')\n",
    "        job_ads = []\n",
    "        job_ads = [self.parse_data(item) for item in loaded_ad[:-1]]\n",
    "        self.raw_data = job_ads\n",
    "        self.classes = set([item['class'] for item in job_ads])\n",
    "    \n",
    "    def parse_data(self, input_line):\n",
    "        \n",
    "        cur_text = input_line.split('`')\n",
    "        ret_data = {}\n",
    "        ret_data['id'] = cur_text[1]\n",
    "        ret_data['company'] = cur_text[3]\n",
    "        ret_data['position'] = cur_text[5]\n",
    "        ret_data['url'] = cur_text[7]\n",
    "        ret_data['desc'] = cur_text[9]\n",
    "        ret_data['class'] = ''.join(cur_text[11:]).replace(',NA', '')\n",
    "    \n",
    "        return ret_data\n",
    "    \n",
    "    def create_training_set(self, labels):\n",
    "        \n",
    "        self.label_dict = {}\n",
    "        for i, item in enumerate(labels):\n",
    "            self.label_dict[item] = i + 1\n",
    "        self.label = [self.label_dict[item['class']] if item['class'] in self.label_dict else 0 for item in self.raw_data]\n",
    "        self.label_names = [item['class'] if item['class'] in self.label_dict else 'Other' for item in self.raw_data]\n",
    "        \n",
    "    def vectorize(self):\n",
    "        \n",
    "        def remove_white_space(in_text):\n",
    "            \n",
    "            on_text = in_text[:].replace(u'\\xa0', ' ')\n",
    "            while on_text.find('  ') > -1:\n",
    "                on_text = on_text.replace('  ', ' ')\n",
    "                \n",
    "            return on_text\n",
    "        \n",
    "        self.sample_desc = [remove_white_space(item['desc']) for item in self.raw_data]\n",
    "        self.sample_title = [remove_white_space(item['position']) for item in self.raw_data]\n",
    "        \n",
    "        from sklearn.feature_extraction.text import TfidfVectorizer\n",
    "        import os\n",
    "        os.sys.path.append('..')\n",
    "        from tokenizer import Tokenizer as my_tokenizer\n",
    "        tkn1 = my_tokenizer(1)\n",
    "        tkn2 = my_tokenizer(2)\n",
    "        tkn3 = my_tokenizer(3)\n",
    "        tkn4 = my_tokenizer(4)\n",
    "        desc_vectorizer = TfidfVectorizer(tokenizer=tkn2.tokenizer)\n",
    "        self.sample_desc = desc_vectorizer.fit_transform(TD.sample_desc)\n",
    "        title_vectorizer = TfidfVectorizer(tokenizer=tkn4.tokenizer)\n",
    "        self.sample_title = title_vectorizer.fit_transform(TD.sample_title)\n",
    "        \n",
    "    def balance_training_set(self, balance_class):\n",
    "    \n",
    "        import numpy as np\n",
    "        prop = np.mean([np.array(self.label) == self.label_dict[balance_class]])\n",
    "        \n",
    "        if prop < 0.5:\n",
    "            prop = prop / (1 - prop)\n",
    "            mask = [True if item == self.label_dict[balance_class] or np.random.rand() < prop else False for item in self.label]\n",
    "        else:\n",
    "            prop = (1 - prop) / prop\n",
    "            mask = [True if item != self.label_dict[balance_class] or np.random.rand() < prop else False for item in self.label]\n",
    "        sample_desc = []\n",
    "        sample_title = []\n",
    "        label = []\n",
    "        for i, item in enumerate(mask):\n",
    "            if item:\n",
    "                sample_desc.append(self.sample_desc[i])\n",
    "                sample_title.append(self.sample_title[i])\n",
    "                label.append(self.label[i])\n",
    "        return label, sample_title, sample_desc"
   ]
  },
  {
   "cell_type": "code",
   "execution_count": 2,
   "metadata": {},
   "outputs": [],
   "source": [
    "import pickle\n",
    "with open('trainingset.pickle', 'rb') as f:\n",
    "    # The protocol version used is detected automatically, so we do not\n",
    "    # have to specify it.\n",
    "    TD = pickle.load(f)\n",
    "TD.create_training_set(['Other'])\n",
    "label_vec, title_vec, desc_vec = TD.balance_training_set('Other')"
   ]
  },
  {
   "cell_type": "code",
   "execution_count": 6,
   "metadata": {},
   "outputs": [],
   "source": [
    "def hold_sample(label, title, desc, prop):\n",
    "    import numpy as np\n",
    "    from scipy.sparse import vstack, hstack\n",
    "    mask = np.random.rand(len(label))\n",
    "    label_vec = []\n",
    "    title_vec = []\n",
    "    desc_vec = []\n",
    "    for i, item in enumerate(mask):\n",
    "        if item <= prop:\n",
    "            label_vec.append(label[i])\n",
    "            title_vec.append(title[i])\n",
    "            desc_vec.append(desc[i])\n",
    "    data_vec = hstack([vstack(title_vec), vstack(desc_vec)])\n",
    "    label_vec = np.array(label_vec)\n",
    "    sample = {'prop':prop, 'label_vec': label_vec, 'data_vec': data_vec}\n",
    "    return sample"
   ]
  },
  {
   "cell_type": "code",
   "execution_count": 7,
   "metadata": {},
   "outputs": [],
   "source": [
    "hold_out_sample_prop = [0.3, 0.4, 0.5, 0.6, 0.7, 0.8, 0.9, 1]\n",
    "hold_out_samples = []\n",
    "for prop in hold_out_sample_prop:\n",
    "    hold_out_samples.append(hold_sample(label_vec, title_vec, desc_vec, prop))"
   ]
  },
  {
   "cell_type": "code",
   "execution_count": 10,
   "metadata": {},
   "outputs": [],
   "source": [
    "def train_NB(data_vec, label_vec, cv=10):\n",
    "    from sklearn.naive_bayes import BernoulliNB\n",
    "    from sklearn.model_selection import cross_validate\n",
    "    import numpy as np\n",
    "    bclf = BernoulliNB()\n",
    "    scores = cross_validate(bclf, data_vec, label_vec, cv=cv, scoring=['precision_macro', 'recall_macro', 'f1_macro'])\n",
    "    avg_score = {}\n",
    "    avg_score['test_precision_macro'] = np.mean(scores['test_precision_macro'])\n",
    "    avg_score['test_recall_macro'] = np.mean(scores['test_recall_macro'])\n",
    "    avg_score['test_f1_macro'] = np.mean(scores['test_f1_macro'])\n",
    "    return avg_score"
   ]
  },
  {
   "cell_type": "code",
   "execution_count": 16,
   "metadata": {},
   "outputs": [
    {
     "name": "stdout",
     "output_type": "stream",
     "text": [
      "0.3 (289,) (289, 38969)\n"
     ]
    },
    {
     "name": "stderr",
     "output_type": "stream",
     "text": [
      "c:\\users\\nutha\\jpa\\lib\\site-packages\\sklearn\\metrics\\classification.py:1135: UndefinedMetricWarning: Precision is ill-defined and being set to 0.0 in labels with no predicted samples.\n",
      "  'precision', 'predicted', average, warn_for)\n",
      "c:\\users\\nutha\\jpa\\lib\\site-packages\\sklearn\\metrics\\classification.py:1135: UndefinedMetricWarning: F-score is ill-defined and being set to 0.0 in labels with no predicted samples.\n",
      "  'precision', 'predicted', average, warn_for)\n",
      "c:\\users\\nutha\\jpa\\lib\\site-packages\\sklearn\\metrics\\classification.py:1135: UndefinedMetricWarning: Precision is ill-defined and being set to 0.0 in labels with no predicted samples.\n",
      "  'precision', 'predicted', average, warn_for)\n",
      "c:\\users\\nutha\\jpa\\lib\\site-packages\\sklearn\\metrics\\classification.py:1135: UndefinedMetricWarning: F-score is ill-defined and being set to 0.0 in labels with no predicted samples.\n",
      "  'precision', 'predicted', average, warn_for)\n",
      "c:\\users\\nutha\\jpa\\lib\\site-packages\\sklearn\\metrics\\classification.py:1135: UndefinedMetricWarning: Precision is ill-defined and being set to 0.0 in labels with no predicted samples.\n",
      "  'precision', 'predicted', average, warn_for)\n",
      "c:\\users\\nutha\\jpa\\lib\\site-packages\\sklearn\\metrics\\classification.py:1135: UndefinedMetricWarning: F-score is ill-defined and being set to 0.0 in labels with no predicted samples.\n",
      "  'precision', 'predicted', average, warn_for)\n",
      "c:\\users\\nutha\\jpa\\lib\\site-packages\\sklearn\\metrics\\classification.py:1135: UndefinedMetricWarning: Precision is ill-defined and being set to 0.0 in labels with no predicted samples.\n",
      "  'precision', 'predicted', average, warn_for)\n",
      "c:\\users\\nutha\\jpa\\lib\\site-packages\\sklearn\\metrics\\classification.py:1135: UndefinedMetricWarning: F-score is ill-defined and being set to 0.0 in labels with no predicted samples.\n",
      "  'precision', 'predicted', average, warn_for)\n"
     ]
    },
    {
     "name": "stdout",
     "output_type": "stream",
     "text": [
      "0.4 (366,) (366, 38969)\n",
      "0.5 (462,) (462, 38969)\n",
      "0.6 (543,) (543, 38969)\n",
      "0.7 (643,) (643, 38969)\n",
      "0.8 (724,) (724, 38969)\n",
      "0.9 (807,) (807, 38969)\n",
      "1 (910,) (910, 38969)\n"
     ]
    },
    {
     "data": {
      "image/png": "[encoded data removed]",
      "text/plain": [
       "<matplotlib.figure.Figure at 0x2354e819ba8>"
      ]
     },
     "metadata": {},
     "output_type": "display_data"
    },
    {
     "data": {
      "image/png": "[encoded data removed]",
      "text/plain": [
       "<matplotlib.figure.Figure at 0x2354e8b82b0>"
      ]
     },
     "metadata": {},
     "output_type": "display_data"
    },
    {
     "data": {
      "image/png": "[encoded data removed]",
      "text/plain": [
       "<matplotlib.figure.Figure at 0x2354e8fbc50>"
      ]
     },
     "metadata": {},
     "output_type": "display_data"
    }
   ],
   "source": [
    "test_precision_macro = []\n",
    "test_recall_macro = []\n",
    "test_f1_macro = []\n",
    "for item in hold_out_samples:\n",
    "    print(item['prop'], item['label_vec'].shape, item['data_vec'].shape)\n",
    "    score = train_NB(item['data_vec'], item['label_vec'])\n",
    "    test_precision_macro.append(score['test_precision_macro'])\n",
    "    test_recall_macro.append(score['test_recall_macro'])\n",
    "    test_f1_macro.append(score['test_f1_macro'])\n",
    "#print(test_precision_macro)\n",
    "#print(test_recall_macro)\n",
    "#print(test_f1_macro)\n",
    "import matplotlib.pyplot as plt\n",
    "sample_size = [item['label_vec'].shape[0] for item in hold_out_samples]\n",
    "plt.plot(sample_size, test_precision_macro)\n",
    "plt.ylabel('test_precision_macro')\n",
    "plt.show()\n",
    "plt.plot(sample_size, test_recall_macro)\n",
    "plt.ylabel('test_recall_macro')\n",
    "plt.show()\n",
    "plt.plot(sample_size, test_f1_macro)\n",
    "plt.ylabel('test_f1_macro')\n",
    "plt.show()"
   ]
  },
  {
   "cell_type": "code",
   "execution_count": null,
   "metadata": {},
   "outputs": [],
   "source": [
    "TD = Training_Data('trainingset_20180406.csv')\n",
    "TD.load_data()\n",
    "TD.vectorize()\n",
    "import pickle\n",
    "with open('trainingset.pickle', 'wb') as f:\n",
    "    # Pickle the 'data' dictionary using the highest protocol available.\n",
    "    pickle.dump(TD, f, pickle.HIGHEST_PROTOCOL)"
   ]
  }
 ],
 "metadata": {
  "kernelspec": {
   "display_name": "Python 3",
   "language": "python",
   "name": "python3"
  },
  "language_info": {
   "codemirror_mode": {
    "name": "ipython",
    "version": 3
   },
   "file_extension": ".py",
   "mimetype": "text/x-python",
   "name": "python",
   "nbconvert_exporter": "python",
   "pygments_lexer": "ipython3",
   "version": "3.6.3"
  }
 },
 "nbformat": 4,
 "nbformat_minor": 2
}
