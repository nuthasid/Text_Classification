{
 "cells": [
  {
   "cell_type": "code",
   "execution_count": 40,
   "metadata": {},
   "outputs": [],
   "source": [
    "class Training_Data:\n",
    "    \n",
    "    def __init__(self, data_file):\n",
    "        self.data_file = data_file\n",
    "        \n",
    "    def load_data(self):\n",
    "        \n",
    "        import os\n",
    "    \n",
    "        file_path = os.path.abspath(os.path.join(os.getcwd(), '..', 'data', self.data_file))    \n",
    "        with open(file_path, 'rt', encoding='utf-8') as tf:\n",
    "            loaded_ad = tf.read().split('\\n')\n",
    "        job_ads = []\n",
    "        job_ads = [self.parse_data(item) for item in loaded_ad[:-1]]\n",
    "        self.raw_data = job_ads\n",
    "        self.classes = set([item['class'] for item in job_ads])\n",
    "    \n",
    "    def parse_data(self, input_line):\n",
    "        \n",
    "        cur_text = input_line.split('`')\n",
    "        ret_data = {}\n",
    "        ret_data['id'] = cur_text[1]\n",
    "        ret_data['company'] = cur_text[3]\n",
    "        ret_data['position'] = cur_text[5]\n",
    "        ret_data['url'] = cur_text[7]\n",
    "        ret_data['desc'] = cur_text[9]\n",
    "        ret_data['class'] = ''.join(cur_text[11:]).replace(',NA', '')\n",
    "    \n",
    "        return ret_data\n",
    "    \n",
    "    def create_training_set(self, labels):\n",
    "        \n",
    "        self.label_dict = {}\n",
    "        for i, item in enumerate(labels):\n",
    "            self.label_dict[item] = i + 1\n",
    "        self.label = [self.label_dict[item['class']] if item['class'] in self.label_dict else 0 for item in self.raw_data]\n",
    "        self.label_names = [item['class'] if item['class'] in self.label_dict else 'Other' for item in self.raw_data]\n",
    "        \n",
    "    def vectorize(self):\n",
    "        \n",
    "        def remove_white_space(in_text):\n",
    "            \n",
    "            on_text = in_text[:].replace(u'\\xa0', ' ')\n",
    "            while on_text.find('  ') > -1:\n",
    "                on_text = on_text.replace('  ', ' ')\n",
    "                \n",
    "            return on_text\n",
    "        \n",
    "        self.sample_desc = [remove_white_space(item['desc']) for item in self.raw_data]\n",
    "        self.sample_title = [remove_white_space(item['position']) for item in self.raw_data]\n",
    "        \n",
    "        from sklearn.feature_extraction.text import TfidfVectorizer\n",
    "        import os\n",
    "        os.sys.path.append('..')\n",
    "        from tokenizer import Tokenizer as my_tokenizer\n",
    "        tkn1 = my_tokenizer(1)\n",
    "        tkn2 = my_tokenizer(2)\n",
    "        tkn3 = my_tokenizer(3)\n",
    "        tkn4 = my_tokenizer(4)\n",
    "        desc_vectorizer = TfidfVectorizer(tokenizer=tkn2.tokenizer)\n",
    "        self.sample_desc = desc_vectorizer.fit_transform(TD.sample_desc)\n",
    "        title_vectorizer = TfidfVectorizer(tokenizer=tkn4.tokenizer)\n",
    "        self.sample_title = title_vectorizer.fit_transform(TD.sample_title)\n",
    "        \n",
    "    def balance_training_set(self, balance_class):\n",
    "    \n",
    "        import numpy as np\n",
    "        prop = np.mean([np.array(self.label) == self.label_dict[balance_class]])\n",
    "        \n",
    "        if prop < 0.5:\n",
    "            prop = prop / (1 - prop)\n",
    "            mask = [True if item == self.label_dict[balance_class] or np.random.rand() < prop else False for item in self.label]\n",
    "        else:\n",
    "            prop = (1 - prop) / prop\n",
    "            mask = [True if item != self.label_dict[balance_class] or np.random.rand() < prop else False for item in self.label]\n",
    "        sample_desc = []\n",
    "        sample_title = []\n",
    "        label = []\n",
    "        for i, item in enumerate(mask):\n",
    "            if item:\n",
    "                sample_desc.append(self.sample_desc[i])\n",
    "                sample_title.append(self.sample_title[i])\n",
    "                label.append(self.label[i])\n",
    "        return label, sample_title, sample_desc"
   ]
  },
  {
   "cell_type": "code",
   "execution_count": 41,
   "metadata": {},
   "outputs": [],
   "source": [
    "TD = Training_Data('trainingset_20180406.csv')\n",
    "TD.load_data()\n",
    "TD.vectorize()\n",
    "import pickle\n",
    "with open('trainingset.pickle', 'wb') as f:\n",
    "    # Pickle the 'data' dictionary using the highest protocol available.\n",
    "    pickle.dump(TD, f, pickle.HIGHEST_PROTOCOL)"
   ]
  },
  {
   "cell_type": "code",
   "execution_count": 43,
   "metadata": {},
   "outputs": [],
   "source": [
    "import pickle\n",
    "with open('trainingset.pickle', 'wb') as f:\n",
    "    # Pickle the 'data' dictionary using the highest protocol available.\n",
    "    pickle.dump(TD, f, pickle.HIGHEST_PROTOCOL)"
   ]
  },
  {
   "cell_type": "code",
   "execution_count": 45,
   "metadata": {},
   "outputs": [],
   "source": [
    "import pickle\n",
    "with open('trainingset.pickle', 'rb') as f:\n",
    "    # The protocol version used is detected automatically, so we do not\n",
    "    # have to specify it.\n",
    "    TD = pickle.load(f)\n",
    "TD.create_training_set(TD.classes)"
   ]
  },
  {
   "cell_type": "code",
   "execution_count": 46,
   "metadata": {},
   "outputs": [
    {
     "name": "stdout",
     "output_type": "stream",
     "text": [
      "(2004, 30544) (2004, 8425)\n",
      "2004\n"
     ]
    }
   ],
   "source": [
    "print(TD.sample_desc.shape, TD.sample_title.shape)\n",
    "TD.create_training_set(['Other'])\n",
    "print(len(TD.label))"
   ]
  },
  {
   "cell_type": "code",
   "execution_count": 47,
   "metadata": {},
   "outputs": [
    {
     "name": "stdout",
     "output_type": "stream",
     "text": [
      "0.7684630738522954\n"
     ]
    }
   ],
   "source": [
    "label_vec, title_vec, desc_vec = TD.balance_training_set('Other')"
   ]
  },
  {
   "cell_type": "code",
   "execution_count": 56,
   "metadata": {},
   "outputs": [
    {
     "name": "stdout",
     "output_type": "stream",
     "text": [
      "(909, 38969)\n"
     ]
    }
   ],
   "source": [
    "from scipy.sparse import vstack, hstack\n",
    "data_vec = hstack([vstack(title_vec), vstack(desc_vec)])\n",
    "import numpy as np\n",
    "label_vec = np.array(label_vec)"
   ]
  },
  {
   "cell_type": "code",
   "execution_count": 60,
   "metadata": {},
   "outputs": [
    {
     "name": "stdout",
     "output_type": "stream",
     "text": [
      "[0.51098901 0.51098901 0.51098901 0.51098901 0.50828729]\n"
     ]
    }
   ],
   "source": [
    "from sklearn.svm import SVC\n",
    "from sklearn.model_selection import cross_val_score\n",
    "from sklearn import metrics\n",
    "clf = SVC(degree=200)\n",
    "scores = cross_val_score(clf, data_vec, label_vec, cv=5, scoring='accuracy')\n",
    "print(scores)"
   ]
  },
  {
   "cell_type": "code",
   "execution_count": 59,
   "metadata": {
    "scrolled": true
   },
   "outputs": [
    {
     "name": "stdout",
     "output_type": "stream",
     "text": [
      "             precision    recall  f1-score   support\n",
      "\n",
      "      Other       0.51      1.00      0.67       139\n",
      "       STEM       0.00      0.00      0.00       134\n",
      "\n",
      "avg / total       0.26      0.51      0.34       273\n",
      "\n"
     ]
    },
    {
     "name": "stderr",
     "output_type": "stream",
     "text": [
      "c:\\users\\nutha\\jpa\\lib\\site-packages\\sklearn\\metrics\\classification.py:1135: UndefinedMetricWarning: Precision and F-score are ill-defined and being set to 0.0 in labels with no predicted samples.\n",
      "  'precision', 'predicted', average, warn_for)\n"
     ]
    }
   ],
   "source": [
    "from sklearn.model_selection import train_test_split\n",
    "desc_train, desc_test, label_train, label_test = train_test_split(data_vec, label_vec, test_size=0.3)\n",
    "clf = clf.fit(desc_train, label_train)\n",
    "label_predict = clf.predict(desc_test)\n",
    "from sklearn.metrics import classification_report\n",
    "print(classification_report(label_test, label_predict, target_names=['Other', 'STEM']))"
   ]
  },
  {
   "cell_type": "code",
   "execution_count": 79,
   "metadata": {},
   "outputs": [
    {
     "name": "stdout",
     "output_type": "stream",
     "text": [
      "{'fit_time': array([0.00499964, 0.0049963 , 0.00399923, 0.00499725, 0.00399613]), 'score_time': array([0.01000476, 0.01000643, 0.00999951, 0.00900245, 0.01000094]), 'test_precision_macro': array([0.79850467, 0.75497835, 0.76587302, 0.80258548, 0.78363914]), 'train_precision_macro': array([0.97523017, 0.94209656, 0.94310382, 0.95761987, 0.95153471]), 'test_recall_macro': array([0.78941646, 0.74906367, 0.72665217, 0.80258548, 0.77186126]), 'train_recall_macro': array([0.97523017, 0.94148066, 0.93404555, 0.95770995, 0.95010269]), 'test_f1_macro': array([0.78914634, 0.74614918, 0.71916234, 0.8021978 , 0.77068076]), 'train_f1_macro': array([0.97523017, 0.94084566, 0.93490739, 0.95735869, 0.95046533])}\n",
      "             precision    recall  f1-score   support\n",
      "\n",
      "      Other       0.76      0.94      0.84       139\n",
      "       STEM       0.91      0.69      0.79       134\n",
      "\n",
      "avg / total       0.83      0.82      0.81       273\n",
      "\n",
      "             precision    recall  f1-score   support\n",
      "\n",
      "      Other       0.88      0.98      0.93       464\n",
      "       STEM       0.97      0.86      0.91       445\n",
      "\n",
      "avg / total       0.93      0.92      0.92       909\n",
      "\n"
     ]
    }
   ],
   "source": [
    "from sklearn.naive_bayes import BernoulliNB\n",
    "from sklearn.model_selection import cross_validate\n",
    "bclf = BernoulliNB()\n",
    "scores = cross_validate(bclf, data_vec, label_vec, cv=5, scoring=['precision_macro', 'recall_macro', 'f1_macro'])\n",
    "print(scores)\n",
    "from sklearn.model_selection import train_test_split\n",
    "desc_train, desc_test, label_train, label_test = train_test_split(data_vec, label_vec, test_size=0.3)\n",
    "bclf = bclf.fit(desc_train, label_train)\n",
    "label_predict = bclf.predict(desc_test)\n",
    "from sklearn.metrics import classification_report\n",
    "print(classification_report(label_test, label_predict, target_names=['Other', 'STEM']))\n",
    "in_bclf = BernoulliNB()\n",
    "in_bclf = in_bclf.fit(data_vec, label_vec)\n",
    "label_predict = bclf.predict(data_vec)\n",
    "from sklearn.metrics import classification_report\n",
    "print(classification_report(label_vec, label_predict, target_names=['Other', 'STEM']))"
   ]
  },
  {
   "cell_type": "code",
   "execution_count": null,
   "metadata": {},
   "outputs": [],
   "source": [
    "para_bclf = in_bclf.get_params(True)\n",
    "print(para_bclf)"
   ]
  },
  {
   "cell_type": "code",
   "execution_count": null,
   "metadata": {},
   "outputs": [],
   "source": [
    "prob_bclf = in_bclf.predict_proba(desc_test)\n",
    "print(prob_bclf[:10])"
   ]
  },
  {
   "cell_type": "code",
   "execution_count": null,
   "metadata": {},
   "outputs": [],
   "source": [
    "from sklearn import tree\n",
    "tclf = tree.DecisionTreeClassifier()\n",
    "scores = cross_val_score(tclf, data_vec, label_vec, cv=6, scoring='f1')\n",
    "print(scores)\n",
    "from sklearn.model_selection import train_test_split\n",
    "desc_train, desc_test, label_train, label_test = train_test_split(data_vec, label_vec, test_size=0.3)\n",
    "tclf = tclf.fit(desc_train, label_train)\n",
    "label_predict = tclf.predict(desc_test)\n",
    "from sklearn.metrics import classification_report\n",
    "print(classification_report(label_test, label_predict, target_names=['other','Clerks, etc.']))\n",
    "in_tclf = tclf.fit(data_vec, label_vec)\n",
    "label_predict = tclf.predict(data_vec)\n",
    "from sklearn.metrics import classification_report\n",
    "print(classification_report(label_vec, label_predict, target_names=['other','Clerks, etc.']))"
   ]
  },
  {
   "cell_type": "code",
   "execution_count": null,
   "metadata": {},
   "outputs": [],
   "source": [
    "import pickle"
   ]
  },
  {
   "cell_type": "code",
   "execution_count": null,
   "metadata": {},
   "outputs": [],
   "source": [
    "predict_all = bclf.predict(data_vec)\n",
    "false_neg = []\n",
    "for i, item in enumerate(predict_all):\n",
    "    if label_vec[i,] == 0 and predict_all[i,] != 0:\n",
    "        false_neg.append([TD.sample_title[i], TD.sample_desc[i]])\n",
    "for item in false_neg:\n",
    "    print(item[0] + '\\n' + item[1] + '\\n')"
   ]
  },
  {
   "cell_type": "code",
   "execution_count": null,
   "metadata": {},
   "outputs": [],
   "source": [
    "for i, item in enumerate(TD.label):\n",
    "    if item == 1:\n",
    "        print(TD.sample_title[i] + '\\n')"
   ]
  },
  {
   "cell_type": "code",
   "execution_count": null,
   "metadata": {},
   "outputs": [],
   "source": [
    "from sklearn.feature_selection import mutual_info_classif as mic\n",
    "mutual_info_desc = mic(desc_vec, label_vec)"
   ]
  },
  {
   "cell_type": "code",
   "execution_count": null,
   "metadata": {},
   "outputs": [],
   "source": [
    "token_desc_info = []\n",
    "for token in desc_vectorizer.vocabulary_:\n",
    "    token_desc_info.append([token, mutual_info_desc[desc_vectorizer.vocabulary_[token]]])"
   ]
  },
  {
   "cell_type": "code",
   "execution_count": null,
   "metadata": {},
   "outputs": [],
   "source": [
    "import csv\n",
    "\n",
    "with open('mutual_info_desc.txt', 'wt', encoding='utf-8', newline='') as of:\n",
    "    csv_write = csv.writer(of, delimiter=',', dialect='excel')\n",
    "    csv_write.writerows(token_desc_info)"
   ]
  },
  {
   "cell_type": "code",
   "execution_count": null,
   "metadata": {
    "scrolled": true
   },
   "outputs": [],
   "source": [
    "print([item for item in desc_vectorizer.vocabulary_][:10])"
   ]
  }
 ],
 "metadata": {
  "kernelspec": {
   "display_name": "Python 3",
   "language": "python",
   "name": "python3"
  },
  "language_info": {
   "codemirror_mode": {
    "name": "ipython",
    "version": 3
   },
   "file_extension": ".py",
   "mimetype": "text/x-python",
   "name": "python",
   "nbconvert_exporter": "python",
   "pygments_lexer": "ipython3",
   "version": "3.6.3"
  }
 },
 "nbformat": 4,
 "nbformat_minor": 2
}
