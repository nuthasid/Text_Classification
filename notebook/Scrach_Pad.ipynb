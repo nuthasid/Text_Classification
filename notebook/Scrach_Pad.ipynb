{
 "cells": [
  {
   "cell_type": "code",
   "execution_count": 31,
   "metadata": {},
   "outputs": [
    {
     "name": "stdout",
     "output_type": "stream",
     "text": [
      "{\"loc\": \"ชลบุรี\", \"sal\": \"เงินเดือนสามารถต่อรองได้\", \"pdate\": \"12-May-18\", \"company\": \"APUS DEVELOPMENT CO., LTD./บริษัท เอปัส ดีเวลลอปเม้นท์ จำกัด\", \"pos\": \"Assistant Sales Manager/Sale/Resale/Leasing\", \"benef\": \"\", \"func\": \"งานขาย งานบริการลูกค้า งานพัฒนาธุรกิจ > งานขาย\", \"edu\": \"ปริญญาตรี\", \"etype\": \"งานเต็มเวลา, งานประจำ\", \"indus\": \"ธุรกิจอสังหาริมทรัพย์\", \"other\": null, \"desc\": \"รายละเอียดและหน้าที่ของงาน \\nนำเสนอและขายโครงการคอนโดมิเนียมให้แก่ลุกค้าที่เข้ามาชมโครงการ ประสานงานขายให้แก่ลูกค้า และงานต่าง ๆ ที่ได้รับมอบหมายจากผู้บังคับบัญชา\\nคุณสมบัติผู้สมัคร\\n\\nเพศชาย - หญิง อายุ 22 ปีขึ้นไป\\nสามารถสื่อสารภาษาอังกฤษได้ในระดับดี\\nเงินเดือนพิจารณาตามความสามารถ\\nมีบุคลิคดี มีความกระตือรือร้นและทักษะในการนำเสนอ และรักในงานบริการ\\nสามารถใช้คอมพิวเตอร์และโปรแกรมพื้นฐานได้\\nมีประสบการณ์ทำงานมา 1 ปีขึ้นไป\\nสามารถสื่อสารภาษา จีน-รัสเซีย ได้จะรับพิจารณาเป็นพิเศษ\\n\\nสมัครงานง่าย เพียงคลิกเครื่องหมาย สมัครงาน\\nPersonnel Department\\nApus Group\\n247/125-126  หมู่ที่10 ตำบลบางหนองปรือ อำเภอ บางละมุง จังหวัดชลบุรี 20150\\nTel : 038-050-278-9\"},{\"loc\": \"กรุงเทพมหานคร\", \"sal\": \"เงินเดือนสามารถต่อรองได้\", \"pdate\": \"05-May-18\", \"company\": \"Fame Placement Co., Ltd.\", \"pos\": \"VP. Business Development (Energy)\", \"benef\": \"\", \"func\": \"งานขาย งานบริการลูกค้า งานพัฒนาธุรกิจ > งานพัฒนาธุรกิจ\\nงานบริหาร > งานบริหารทั่วไป\\nงานบริหาร > งานผู้บริหารระดับสูง\", \"edu\": \"ปริญญาโท\", \"etype\": \"งานเต็มเวลา, งานประจำ\", \"indus\": \"ธุรกิจการจัดการทรัพยากรบุคคล ธุรกิจที่ปรึกษาทรัพยากรบุคคล\", \"other\": null, \"desc\": \"Location: Thailand, Bangkok\\nResponsibilities:\\n\\nFormulate business development (BD) strategies and develop and manage initiatives to drive company business growth.\\nManage and ensure full implementation of BD acquisition plans and activities including Asset M&amp;A, Corporate M&amp;A, Farm in, Farm out and Divestment of Development and Production projects as assigned to be in line with Corporate Strategies and Directions.\\nRepresent Company to drive BD negotiation and close deal with appropriate BD acquisition value.\\nEnsure that business development projects activities to be implemented in compliance with Project Realization Process (PREP) for business development process.\\nPlan and manage Project hand over activities to asset management function to ensure smooth transition.\\nLead and manage multidiscipline teams contributing to pursue common goal for business growth.\\nEstablish, develop strategic relationship with business counterparts &amp; external entities in global E&amp;P, energy industries and select strategic partners for business expansion.\\n\\nQualifications:\\n\\nBackground of BD from energy industries in Asia.\\nM&amp;A background (pre/during/post due)\\nStrong leadership with .\\n\\n\\n\\n\\nFame Placement Co., Ltd. 128/340 Payatai Plaza, 31st Fl., Room G, Payathai Rd.,  Toongpayatai, Rajthevee, Bangkok 10400 Tel. 66(0)2 612 9536-8 Fax. 66(0)2 612 9539 More Jobs at FAME please visit: www.fameplacement.com\"}\n"
     ]
    }
   ],
   "source": [
    "import os\n",
    "import json\n",
    "    \n",
    "file_path = os.path.abspath(os.path.join(os.getcwd(), '..', 'data', 'JPA Data - 20180406', 'sample.json'))\n",
    "with open(file_path, 'rt', encoding='utf-8') as tf:\n",
    "    test = tf.read()\n",
    "job_ad = json.loads(json.dumps(test))\n",
    "print(job_ad)"
   ]
  },
  {
   "cell_type": "code",
   "execution_count": 27,
   "metadata": {},
   "outputs": [
    {
     "name": "stdout",
     "output_type": "stream",
     "text": [
      "{\"name\":\"John\"},{\"name\":\"Jack\"}\n"
     ]
    }
   ],
   "source": [
    "print(json.loads(json.dumps('{\"name\":\"John\"},{\"name\":\"Jack\"}')))"
   ]
  }
 ],
 "metadata": {
  "kernelspec": {
   "display_name": "Python 3",
   "language": "python",
   "name": "python3"
  },
  "language_info": {
   "codemirror_mode": {
    "name": "ipython",
    "version": 3
   },
   "file_extension": ".py",
   "mimetype": "text/x-python",
   "name": "python",
   "nbconvert_exporter": "python",
   "pygments_lexer": "ipython3",
   "version": "3.6.3"
  }
 },
 "nbformat": 4,
 "nbformat_minor": 2
}
