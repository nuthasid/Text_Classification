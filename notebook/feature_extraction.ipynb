{
 "cells": [
  {
   "cell_type": "code",
   "execution_count": 2,
   "metadata": {},
   "outputs": [
    {
     "data": {
      "text/plain": [
       "['certificates',\n",
       " 'related',\n",
       " 'to',\n",
       " 'teaching',\n",
       " 'preferred.',\n",
       " 'For',\n",
       " 'non-native',\n",
       " 'English',\n",
       " 'speakers']"
      ]
     },
     "execution_count": 2,
     "metadata": {},
     "output_type": "execute_result"
    }
   ],
   "source": [
    "from nltk.tokenize import TreebankWordTokenizer\n",
    "eng_tokenizer = TreebankWordTokenizer()\n",
    "eng_tokenizer.tokenize('certificates related to teaching preferred. For non-native English speakers')"
   ]
  },
  {
   "cell_type": "code",
   "execution_count": 16,
   "metadata": {},
   "outputs": [
    {
     "data": {
      "text/plain": [
       "True"
      ]
     },
     "execution_count": 16,
     "metadata": {},
     "output_type": "execute_result"
    }
   ],
   "source": [
    "callable(eng_tokenizer.tokenize)"
   ]
  },
  {
   "cell_type": "code",
   "execution_count": 8,
   "metadata": {},
   "outputs": [
    {
     "data": {
      "text/plain": [
       "['certificates',\n",
       " ',',\n",
       " 'related/to',\n",
       " 'teaching',\n",
       " 'preferredอาหาร',\n",
       " '.',\n",
       " 'For',\n",
       " '.non-native',\n",
       " 'English-speakers']"
      ]
     },
     "execution_count": 8,
     "metadata": {},
     "output_type": "execute_result"
    }
   ],
   "source": [
    "eng_tokenizer.tokenize('certificates, related/to teaching preferredอาหาร . For .non-native English-speakers')"
   ]
  },
  {
   "cell_type": "code",
   "execution_count": 9,
   "metadata": {},
   "outputs": [
    {
     "data": {
      "text/plain": [
       "[]"
      ]
     },
     "execution_count": 9,
     "metadata": {},
     "output_type": "execute_result"
    }
   ],
   "source": [
    "mlst = [1,2,3]\n",
    "mlst[:-0]"
   ]
  },
  {
   "cell_type": "code",
   "execution_count": 11,
   "metadata": {},
   "outputs": [
    {
     "data": {
      "text/plain": [
       "[0, 1]"
      ]
     },
     "execution_count": 11,
     "metadata": {},
     "output_type": "execute_result"
    }
   ],
   "source": [
    "list(range(2))"
   ]
  },
  {
   "cell_type": "code",
   "execution_count": 22,
   "metadata": {},
   "outputs": [],
   "source": [
    "doc01 = 'Full-time (เต็มเวลา) English Language Teacher.'"
   ]
  },
  {
   "cell_type": "code",
   "execution_count": 23,
   "metadata": {},
   "outputs": [],
   "source": [
    "doc02 = 'Full-time (เต็มเวลา) and part-time (นอกเวลา) Chinese Language Teacher'"
   ]
  },
  {
   "cell_type": "code",
   "execution_count": 17,
   "metadata": {},
   "outputs": [
    {
     "data": {
      "text/plain": [
       "CountVectorizer(analyzer='word', binary=False, decode_error='strict',\n",
       "        dtype=<class 'numpy.int64'>, encoding='utf-8', input='content',\n",
       "        lowercase=True, max_df=1.0, max_features=None, min_df=1,\n",
       "        ngram_range=(1, 1), preprocessor=None, stop_words=None,\n",
       "        strip_accents=None, token_pattern='(?u)\\\\b\\\\w\\\\w+\\\\b',\n",
       "        tokenizer=<bound method TreebankWordTokenizer.tokenize of <nltk.tokenize.treebank.TreebankWordTokenizer object at 0x000001935571AD30>>,\n",
       "        vocabulary=None)"
      ]
     },
     "execution_count": 17,
     "metadata": {},
     "output_type": "execute_result"
    }
   ],
   "source": [
    "from sklearn.feature_extraction.text import CountVectorizer\n",
    "vectorizer = CountVectorizer(tokenizer=eng_tokenizer.tokenize)\n",
    "vectorizer"
   ]
  },
  {
   "cell_type": "code",
   "execution_count": 24,
   "metadata": {},
   "outputs": [],
   "source": [
    "corpus = [doc01, doc02]"
   ]
  },
  {
   "cell_type": "code",
   "execution_count": 25,
   "metadata": {},
   "outputs": [
    {
     "data": {
      "text/plain": [
       "<2x12 sparse matrix of type '<class 'numpy.int64'>'\n",
       "\twith 18 stored elements in Compressed Sparse Row format>"
      ]
     },
     "execution_count": 25,
     "metadata": {},
     "output_type": "execute_result"
    }
   ],
   "source": [
    "X = vectorizer.fit_transform(corpus)\n",
    "X"
   ]
  },
  {
   "cell_type": "code",
   "execution_count": 26,
   "metadata": {},
   "outputs": [
    {
     "data": {
      "text/plain": [
       "array([[1, 1, 1, 0, 0, 1, 1, 1, 0, 1, 0, 1],\n",
       "       [2, 2, 0, 1, 1, 0, 1, 1, 1, 1, 1, 1]], dtype=int64)"
      ]
     },
     "execution_count": 26,
     "metadata": {},
     "output_type": "execute_result"
    }
   ],
   "source": [
    "X.toarray()"
   ]
  },
  {
   "cell_type": "code",
   "execution_count": 36,
   "metadata": {},
   "outputs": [
    {
     "name": "stdout",
     "output_type": "stream",
     "text": [
      "['Full-time', '(', 'เต็มเวลา', ')', 'English', 'Language', 'Teacher', '.']\n",
      "['Full-time', '(', 'เต็มเวลา', ')', 'and', 'part-time', '(', 'นอกเวลา', ')', 'Chinese', 'Language', 'Teacher']\n"
     ]
    },
    {
     "data": {
      "text/plain": [
       "array([[1, 1, 1, 0, 1],\n",
       "       [1, 0, 1, 1, 1]], dtype=int64)"
      ]
     },
     "execution_count": 36,
     "metadata": {},
     "output_type": "execute_result"
    }
   ],
   "source": [
    "print(eng_tokenizer.tokenize(doc01))\n",
    "print(eng_tokenizer.tokenize(doc02))\n",
    "vocab_dict = {'full-time':0, 'english':1, 'เต็มเวลา':2, 'chinese':3, 'language':4}\n",
    "vectorizer_red = CountVectorizer(tokenizer=eng_tokenizer.tokenize, vocabulary=vocab_dict, ngram_range=(1, 2))\n",
    "Y = vectorizer_red.fit_transform(corpus)\n",
    "Y.toarray()"
   ]
  },
  {
   "cell_type": "code",
   "execution_count": 39,
   "metadata": {},
   "outputs": [
    {
     "data": {
      "text/plain": [
       "['full-time',\n",
       " '(',\n",
       " 'เต็มเวลา',\n",
       " ')',\n",
       " 'english',\n",
       " 'language',\n",
       " 'teacher',\n",
       " '.',\n",
       " 'full-time (',\n",
       " '( เต็มเวลา',\n",
       " 'เต็มเวลา )',\n",
       " ') english',\n",
       " 'english language',\n",
       " 'language teacher',\n",
       " 'teacher .']"
      ]
     },
     "execution_count": 39,
     "metadata": {},
     "output_type": "execute_result"
    }
   ],
   "source": [
    "analyse = vectorizer_red.build_analyzer()\n",
    "analyse(doc01)"
   ]
  },
  {
   "cell_type": "code",
   "execution_count": 51,
   "metadata": {},
   "outputs": [
    {
     "data": {
      "text/plain": [
       "array([[1, 1, 1, 1, 1, 1, 1, 0, 0],\n",
       "       [1, 1, 0, 0, 0, 0, 1, 1, 1]], dtype=int64)"
      ]
     },
     "execution_count": 51,
     "metadata": {},
     "output_type": "execute_result"
    }
   ],
   "source": [
    "vocab_dict = {'full-time':0, 'english':1, 'เต็มเวลา':2, 'chinese':3, 'language':4}\n",
    "vectorizer_bi = CountVectorizer(tokenizer=eng_tokenizer.tokenize, ngram_range=(1, 2))\n",
    "Y = vectorizer_bi.fit_transform(['full-time english chinese language', 'part-time chinese language'])\n",
    "Y.toarray()"
   ]
  },
  {
   "cell_type": "code",
   "execution_count": 52,
   "metadata": {},
   "outputs": [
    {
     "data": {
      "text/plain": [
       "{'chinese': 0,\n",
       " 'chinese language': 1,\n",
       " 'english': 2,\n",
       " 'english chinese': 3,\n",
       " 'full-time': 4,\n",
       " 'full-time english': 5,\n",
       " 'language': 6,\n",
       " 'part-time': 7,\n",
       " 'part-time chinese': 8}"
      ]
     },
     "execution_count": 52,
     "metadata": {},
     "output_type": "execute_result"
    }
   ],
   "source": [
    "vectorizer_bi.vocabulary_"
   ]
  },
  {
   "cell_type": "code",
   "execution_count": 56,
   "metadata": {},
   "outputs": [],
   "source": [
    "import sys\n",
    "sys.path.append('..')\n",
    "from tokenizer import tokenizer as my_tokenizer"
   ]
  },
  {
   "cell_type": "code",
   "execution_count": 57,
   "metadata": {},
   "outputs": [
    {
     "name": "stdout",
     "output_type": "stream",
     "text": [
      "['', 'c:\\\\users\\\\nutha\\\\jpa\\\\scripts\\\\python36.zip', 'C:\\\\Program Files\\\\Python36\\\\DLLs', 'C:\\\\Program Files\\\\Python36\\\\lib', 'C:\\\\Program Files\\\\Python36', 'c:\\\\users\\\\nutha\\\\jpa', 'c:\\\\users\\\\nutha\\\\jpa\\\\lib\\\\site-packages', 'c:\\\\users\\\\nutha\\\\jpa\\\\lib\\\\site-packages\\\\pip-9.0.1-py3.6.egg', 'c:\\\\users\\\\nutha\\\\jpa\\\\lib\\\\site-packages\\\\IPython\\\\extensions', 'C:\\\\Users\\\\nutha\\\\.ipython', '..']\n"
     ]
    }
   ],
   "source": [
    "print(sys.path)"
   ]
  },
  {
   "cell_type": "code",
   "execution_count": 58,
   "metadata": {},
   "outputs": [
    {
     "name": "stderr",
     "output_type": "stream",
     "text": [
      "c:\\users\\nutha\\jpa\\lib\\site-packages\\h5py\\__init__.py:36: FutureWarning: Conversion of the second argument of issubdtype from `float` to `np.floating` is deprecated. In future, it will be treated as `np.float64 == np.dtype(float).type`.\n",
      "  from ._conv import register_converters as _register_converters\n",
      "Using TensorFlow backend.\n"
     ]
    },
    {
     "name": "stdout",
     "output_type": "stream",
     "text": [
      "WARNING:tensorflow:From c:\\users\\nutha\\jpa\\lib\\site-packages\\tensorflow\\python\\util\\deprecation.py:497: calling conv1d (from tensorflow.python.ops.nn_ops) with data_format=NHWC is deprecated and will be removed in a future version.\n",
      "Instructions for updating:\n",
      "`NHWC` for data_format is deprecated, use `NWC` instead\n"
     ]
    }
   ],
   "source": [
    "tkn = my_tokenizer(3)"
   ]
  },
  {
   "cell_type": "code",
   "execution_count": 59,
   "metadata": {},
   "outputs": [
    {
     "name": "stdout",
     "output_type": "stream",
     "text": [
      "[[1 0 0 1 1 1 0 0 0 0 1 1 1 0 0 0 0 0 0 1 1 1 1 1 1 1 1 1 0 0 0 1 1 0 0 0\n",
      "  1 1 1 1 1 0 0 1]\n",
      " [2 1 1 1 1 2 1 1 1 1 0 0 0 1 1 1 1 1 1 0 0 0 1 1 1 1 1 0 1 1 1 1 0 1 1 1\n",
      "  1 1 1 2 2 1 1 0]]\n"
     ]
    }
   ],
   "source": [
    "tri_vectorizer = CountVectorizer(tokenizer=tkn.tokenizer)\n",
    "X = tri_vectorizer.fit_transform(corpus)\n",
    "print(X.toarray())"
   ]
  },
  {
   "cell_type": "code",
   "execution_count": 60,
   "metadata": {},
   "outputs": [
    {
     "data": {
      "text/plain": [
       "{'(': 0,\n",
       " '(นอก': 1,\n",
       " '(นอกเวลา': 2,\n",
       " '(เต็ม': 3,\n",
       " '(เต็มเวลา': 4,\n",
       " ')': 5,\n",
       " ')and': 6,\n",
       " ')andpart-time': 7,\n",
       " ')chinese': 8,\n",
       " ')chineselanguage': 9,\n",
       " ')english': 10,\n",
       " ')englishlanguage': 11,\n",
       " '.': 12,\n",
       " 'and': 13,\n",
       " 'andpart-time': 14,\n",
       " 'andpart-time(': 15,\n",
       " 'chinese': 16,\n",
       " 'chineselanguage': 17,\n",
       " 'chineselanguageteacher': 18,\n",
       " 'english': 19,\n",
       " 'englishlanguage': 20,\n",
       " 'englishlanguageteacher': 21,\n",
       " 'full-time': 22,\n",
       " 'full-time(': 23,\n",
       " 'full-time(เต็ม': 24,\n",
       " 'language': 25,\n",
       " 'languageteacher': 26,\n",
       " 'languageteacher.': 27,\n",
       " 'part-time': 28,\n",
       " 'part-time(': 29,\n",
       " 'part-time(นอก': 30,\n",
       " 'teacher': 31,\n",
       " 'teacher.': 32,\n",
       " 'นอก': 33,\n",
       " 'นอกเวลา': 34,\n",
       " 'นอกเวลา)': 35,\n",
       " 'เต็ม': 36,\n",
       " 'เต็มเวลา': 37,\n",
       " 'เต็มเวลา)': 38,\n",
       " 'เวลา': 39,\n",
       " 'เวลา)': 40,\n",
       " 'เวลา)and': 41,\n",
       " 'เวลา)chinese': 42,\n",
       " 'เวลา)english': 43}"
      ]
     },
     "execution_count": 60,
     "metadata": {},
     "output_type": "execute_result"
    }
   ],
   "source": [
    "tri_vectorizer.vocabulary_"
   ]
  }
 ],
 "metadata": {
  "kernelspec": {
   "display_name": "Python 3",
   "language": "python",
   "name": "python3"
  },
  "language_info": {
   "codemirror_mode": {
    "name": "ipython",
    "version": 3
   },
   "file_extension": ".py",
   "mimetype": "text/x-python",
   "name": "python",
   "nbconvert_exporter": "python",
   "pygments_lexer": "ipython3",
   "version": "3.6.3"
  }
 },
 "nbformat": 4,
 "nbformat_minor": 2
}
