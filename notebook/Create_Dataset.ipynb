{
 "cells": [
  {
   "cell_type": "code",
   "execution_count": 1,
   "metadata": {},
   "outputs": [],
   "source": [
    "import os\n",
    "import numpy as np\n",
    "    \n",
    "file_path = os.path.abspath(os.path.join(os.getcwd(), '..', 'data', 'job_ad_data.csv'))    \n",
    "with open(file_path, 'rt', encoding='utf-8') as tf:\n",
    "    loaded_ad = tf.read().split('\\n')\n",
    "dataset_01 = ''\n",
    "dataset_02 = ''\n",
    "dataset_03 = ''\n",
    "dataset_04 = ''\n",
    "for item in loaded_ad:\n",
    "    rnd = np.random.rand()\n",
    "    if rnd < 0.25:\n",
    "        dataset_01 = dataset_01 + item + '\\n'\n",
    "    elif rnd < 0.5:\n",
    "        dataset_02 = dataset_01 + item + '\\n'\n",
    "    elif rnd < 0.75:\n",
    "        dataset_03 = dataset_01 + item + '\\n'\n",
    "    else:\n",
    "        dataset_04 = dataset_01 + item + '\\n'\n",
    "file_path = os.path.abspath(os.path.join(os.getcwd(), '..', 'data', 'dataset_user_01.csv'))    \n",
    "with open(file_path, 'wt', encoding='utf-8') as tf:\n",
    "    tf.write(dataset_01)\n",
    "file_path = os.path.abspath(os.path.join(os.getcwd(), '..', 'data', 'dataset_user_02.csv'))    \n",
    "with open(file_path, 'wt', encoding='utf-8') as tf:\n",
    "    tf.write(dataset_02)\n",
    "file_path = os.path.abspath(os.path.join(os.getcwd(), '..', 'data', 'dataset_user_03.csv'))    \n",
    "with open(file_path, 'wt', encoding='utf-8') as tf:\n",
    "    tf.write(dataset_03)\n",
    "file_path = os.path.abspath(os.path.join(os.getcwd(), '..', 'data', 'dataset_user_04.csv'))    \n",
    "with open(file_path, 'wt', encoding='utf-8') as tf:\n",
    "    tf.write(dataset_04)"
   ]
  }
 ],
 "metadata": {
  "kernelspec": {
   "display_name": "Python 3",
   "language": "python",
   "name": "python3"
  },
  "language_info": {
   "codemirror_mode": {
    "name": "ipython",
    "version": 3
   },
   "file_extension": ".py",
   "mimetype": "text/x-python",
   "name": "python",
   "nbconvert_exporter": "python",
   "pygments_lexer": "ipython3",
   "version": "3.6.3"
  }
 },
 "nbformat": 4,
 "nbformat_minor": 2
}
