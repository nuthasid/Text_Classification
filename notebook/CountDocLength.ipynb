{
 "cells": [
  {
   "cell_type": "code",
   "execution_count": 1,
   "metadata": {},
   "outputs": [],
   "source": [
    "## Construct Dataframe\n",
    "\n",
    "import pandas as pd\n",
    "from multiprocessing.pool import Pool\n",
    "\n",
    "class DataController():\n",
    "    dataMatrix = pd.DataFrame(columns=[\"title\",\"desc\", \"len_desc\", \"tag\"])\n",
    "    \n",
    "    ## init will create dataMatrix\n",
    "    def __init__(self, pathToFile):\n",
    "        import os\n",
    "        import json\n",
    "        count = 0\n",
    "        \n",
    "        loaded_data = []\n",
    "        parse_pool = Pool(6)\n",
    "        start = time.time()\n",
    "        with open(pathToFile, 'r', encoding='utf-8') as fin:\n",
    "            lines = fin.readlines()\n",
    "            parsed_data = [item for item in parse_pool.imap(self.parse_json, lines)]\n",
    "        self.dataMatrix = self.dataMatrix.append(parsed_data)\n",
    "                \n",
    "    def parse_json(self, item):\n",
    "        import json\n",
    "        import os\n",
    "        json_item = json.loads(item, encoding='utf-8')\n",
    "        json_item['len_desc'] = len(json_item['desc'])\n",
    "        return json_item"
   ]
  },
  {
   "cell_type": "code",
   "execution_count": 2,
   "metadata": {},
   "outputs": [],
   "source": [
    "## Create data\n",
    "import os\n",
    "import time\n",
    "\n",
    "file_name = \"masterDB_JPA Data - 20180406_flatten.json\"\n",
    "file_path = os.getcwd()+\"/../data/\"+file_name\n",
    "\n",
    "data = DataController(file_path)"
   ]
  },
  {
   "cell_type": "code",
   "execution_count": 20,
   "metadata": {},
   "outputs": [
    {
     "name": "stdout",
     "output_type": "stream",
     "text": [
      "289.64694356918335\n"
     ]
    }
   ],
   "source": [
    "## Get descition field of document\n",
    "\n",
    "desc_df = data.dataMatrix.loc[data.dataMatrix['len_desc'] > 4]\n",
    "desc = desc_df['desc']\n",
    "doc_length = [len(item) for item in desc]\n",
    "\n",
    "print(time.time() - start)"
   ]
  },
  {
   "cell_type": "code",
   "execution_count": 21,
   "metadata": {},
   "outputs": [
    {
     "name": "stdout",
     "output_type": "stream",
     "text": [
      "min:  5\n",
      "5pct:  58.0\n",
      "mean:  797.8734796122975\n",
      "median:  584.0\n",
      "95pct:  2193.0\n",
      "max:  65705\n"
     ]
    }
   ],
   "source": [
    "import numpy as np\n",
    "\n",
    "doc_length = np.asarray(doc_length)\n",
    "print('min: ', np.amin(doc_length))\n",
    "print('5pct: ', np.percentile(doc_length, 5))\n",
    "print('mean: ', np.mean(doc_length))\n",
    "print('median: ', np.median(doc_length))\n",
    "print('95pct: ', np.percentile(doc_length, 95))\n",
    "print('max: ', np.amax(doc_length))"
   ]
  },
  {
   "cell_type": "code",
   "execution_count": 22,
   "metadata": {},
   "outputs": [],
   "source": [
    "import pandas as pd\n",
    "import matplotlib.pyplot as plt"
   ]
  },
  {
   "cell_type": "code",
   "execution_count": 23,
   "metadata": {},
   "outputs": [
    {
     "data": {
      "image/png": "[encoded data removed]",
      "text/plain": [
       "<Figure size 432x288 with 1 Axes>"
      ]
     },
     "metadata": {},
     "output_type": "display_data"
    }
   ],
   "source": [
    "pd.DataFrame(doc_length).plot(kind='density', xlim=(5,2200))\n",
    "plt.show()"
   ]
  },
  {
   "cell_type": "code",
   "execution_count": 24,
   "metadata": {
    "scrolled": true
   },
   "outputs": [
    {
     "data": {
      "image/png": "[encoded data removed]",
      "text/plain": [
       "<Figure size 432x288 with 1 Axes>"
      ]
     },
     "metadata": {},
     "output_type": "display_data"
    }
   ],
   "source": [
    "pd.DataFrame(doc_length).plot(kind='hist', xlim=(5,2200), bins=10000)\n",
    "plt.show()"
   ]
  },
  {
   "cell_type": "code",
   "execution_count": 19,
   "metadata": {},
   "outputs": [
    {
     "name": "stdout",
     "output_type": "stream",
     "text": [
      "                                                 title  desc len_desc tag\n",
      "31286                                คอมพิวเตอร์กราฟิก  1. -        4    \n",
      "33387                           วิศวกรอุตสาหกรรมโรงงาน  1. -        4    \n",
      "138574                            งานประจำ (Full Time)  ****        4    \n",
      "142975                            งานประจำ (Full Time)  ****        4    \n",
      "143003                            งานประจำ (Full Time)  ****        4    \n",
      "144309                            งานประจำ (Full Time)  ****        4    \n",
      "145712                            งานประจำ (Full Time)  ****        4    \n",
      "145719                            งานประจำ (Full Time)  ****        4    \n",
      "145720                            งานประจำ (Full Time)  ****        4    \n",
      "148409                            งานประจำ (Full Time)  ****        4    \n",
      "154778  เจ้าหน้าที่บัญชีด้านรับ (Accounting AR Oficer)  1. -        4    \n"
     ]
    }
   ],
   "source": [
    "print(data.dataMatrix[data.dataMatrix['len_desc'] == 4])"
   ]
  },
  {
   "cell_type": "code",
   "execution_count": null,
   "metadata": {},
   "outputs": [],
   "source": []
  }
 ],
 "metadata": {
  "kernelspec": {
   "display_name": "Python 3",
   "language": "python",
   "name": "python3"
  },
  "language_info": {
   "codemirror_mode": {
    "name": "ipython",
    "version": 3
   },
   "file_extension": ".py",
   "mimetype": "text/x-python",
   "name": "python",
   "nbconvert_exporter": "python",
   "pygments_lexer": "ipython3",
   "version": "3.6.5"
  }
 },
 "nbformat": 4,
 "nbformat_minor": 2
}
